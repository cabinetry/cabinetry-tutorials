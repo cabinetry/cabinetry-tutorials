{
 "cells": [
  {
   "cell_type": "code",
   "execution_count": 1,
   "metadata": {},
   "outputs": [],
   "source": [
    "import logging\n",
    "import os\n",
    "\n",
    "import cabinetry"
   ]
  },
  {
   "cell_type": "markdown",
   "metadata": {},
   "source": [
    "We start by configuring the output from `cabinetry` and suppress output from `matplotlib`. \n",
    "This customization is optional and has no impact on the functionality."
   ]
  },
  {
   "cell_type": "code",
   "execution_count": 2,
   "metadata": {},
   "outputs": [],
   "source": [
    "logging.basicConfig(\n",
    "    level=logging.INFO, format=\"%(levelname)s - %(name)s - %(message)s\"\n",
    ")\n",
    "logging.getLogger(\"matplotlib\").setLevel(logging.WARNING)"
   ]
  },
  {
   "cell_type": "markdown",
   "metadata": {},
   "source": [
    "## The configuration file\n",
    "\n",
    "The configuration file is the central place to configure `cabinetry`.\n",
    "Let's have a look at the example configuration file used in this notebook."
   ]
  },
  {
   "cell_type": "code",
   "execution_count": 3,
   "metadata": {},
   "outputs": [
    {
     "name": "stderr",
     "output_type": "stream",
     "text": [
      "INFO - cabinetry.configuration - opening config file config_example.yml\n",
      "INFO - cabinetry.configuration - the config contains:\n",
      "INFO - cabinetry.configuration -   3 Sample(s)\n",
      "INFO - cabinetry.configuration -   1 Regions(s)\n",
      "INFO - cabinetry.configuration -   1 NormFactor(s)\n",
      "INFO - cabinetry.configuration -   3 Systematic(s)\n"
     ]
    }
   ],
   "source": [
    "cabinetry_config = cabinetry.configuration.load(\"config_example.yml\")\n",
    "cabinetry.configuration.print_overview(cabinetry_config)"
   ]
  },
  {
   "cell_type": "markdown",
   "metadata": {},
   "source": [
    "The configuration file is split into four different blocks of settings. There are general settings:"
   ]
  },
  {
   "cell_type": "code",
   "execution_count": 4,
   "metadata": {},
   "outputs": [
    {
     "data": {
      "text/plain": [
       "{'Measurement': 'minimal_example',\n",
       " 'POI': 'Signal_norm',\n",
       " 'HistogramFolder': 'histograms/',\n",
       " 'InputPath': 'ntuples/{SamplePaths}'}"
      ]
     },
     "execution_count": 4,
     "metadata": {},
     "output_type": "execute_result"
    }
   ],
   "source": [
    "cabinetry_config[\"General\"]"
   ]
  },
  {
   "cell_type": "markdown",
   "metadata": {},
   "source": [
    "The list of phase space regions (channels), in this case we are considering just a single one:"
   ]
  },
  {
   "cell_type": "code",
   "execution_count": 5,
   "metadata": {},
   "outputs": [
    {
     "data": {
      "text/plain": [
       "[{'Name': 'Signal_region',\n",
       "  'Variable': 'jet_pt',\n",
       "  'Filter': 'lep_charge > 0',\n",
       "  'Binning': [200, 300, 400, 500, 600]}]"
      ]
     },
     "execution_count": 5,
     "metadata": {},
     "output_type": "execute_result"
    }
   ],
   "source": [
    "cabinetry_config[\"Regions\"]"
   ]
  },
  {
   "cell_type": "markdown",
   "metadata": {},
   "source": [
    "A list of samples, including data:"
   ]
  },
  {
   "cell_type": "code",
   "execution_count": 6,
   "metadata": {},
   "outputs": [
    {
     "data": {
      "text/plain": [
       "[{'Name': 'Data',\n",
       "  'Tree': 'pseudodata',\n",
       "  'SamplePaths': 'data.root',\n",
       "  'Data': True},\n",
       " {'Name': 'Signal',\n",
       "  'Tree': 'signal',\n",
       "  'SamplePaths': 'prediction.root',\n",
       "  'Weight': 'weight'},\n",
       " {'Name': 'Background',\n",
       "  'Tree': 'background',\n",
       "  'SamplePaths': 'prediction.root',\n",
       "  'Weight': 'weight'}]"
      ]
     },
     "execution_count": 6,
     "metadata": {},
     "output_type": "execute_result"
    }
   ],
   "source": [
    "cabinetry_config[\"Samples\"]"
   ]
  },
  {
   "cell_type": "markdown",
   "metadata": {},
   "source": [
    "A list of normalization factors:"
   ]
  },
  {
   "cell_type": "code",
   "execution_count": 7,
   "metadata": {},
   "outputs": [
    {
     "data": {
      "text/plain": [
       "[{'Name': 'Signal_norm', 'Samples': 'Signal', 'Nominal': 1, 'Bounds': [0, 10]}]"
      ]
     },
     "execution_count": 7,
     "metadata": {},
     "output_type": "execute_result"
    }
   ],
   "source": [
    "cabinetry_config[\"NormFactors\"]"
   ]
  },
  {
   "cell_type": "markdown",
   "metadata": {},
   "source": [
    "And finally a list of systematic uncertainties. In this case there are three systematic uncertainties:"
   ]
  },
  {
   "cell_type": "code",
   "execution_count": 8,
   "metadata": {},
   "outputs": [
    {
     "data": {
      "text/plain": [
       "[{'Name': 'Luminosity',\n",
       "  'Up': {'Normalization': 0.05},\n",
       "  'Down': {'Normalization': -0.05},\n",
       "  'Samples': ['Signal', 'Background'],\n",
       "  'Type': 'Normalization'},\n",
       " {'Name': 'Modeling',\n",
       "  'Up': {'SamplePaths': 'prediction.root', 'Tree': 'background_varied'},\n",
       "  'Down': {'Symmetrize': True},\n",
       "  'Samples': 'Background',\n",
       "  'Type': 'NormPlusShape'},\n",
       " {'Name': 'WeightBasedModeling',\n",
       "  'Up': {'Weight': 'weight_up'},\n",
       "  'Down': {'Weight': '0.7*weight'},\n",
       "  'Samples': 'Background',\n",
       "  'Type': 'NormPlusShape'}]"
      ]
     },
     "execution_count": 8,
     "metadata": {},
     "output_type": "execute_result"
    }
   ],
   "source": [
    "cabinetry_config[\"Systematics\"]"
   ]
  },
  {
   "cell_type": "markdown",
   "metadata": {},
   "source": [
    "Regions, samples, normalization factors and systematics all can be identified by their names."
   ]
  },
  {
   "cell_type": "markdown",
   "metadata": {},
   "source": [
    "## Creating template histograms\n",
    "\n",
    "We use the `template_builder` module to create all histograms needed to build the workspace defined in the configuration file."
   ]
  },
  {
   "cell_type": "code",
   "execution_count": 9,
   "metadata": {},
   "outputs": [
    {
     "name": "stderr",
     "output_type": "stream",
     "text": [
      "WARNING - cabinetry.histo - Signal_region_Signal_Nominal has empty bins: [0]\n"
     ]
    }
   ],
   "source": [
    "cabinetry.template_builder.create_histograms(cabinetry_config, method=\"uproot\")"
   ]
  },
  {
   "cell_type": "markdown",
   "metadata": {},
   "source": [
    "The histograms are saved to the folder specified under `HistogramFolder` in the `General` settings in the configuration file.\n",
    "In this case, this folder is `histograms/`:"
   ]
  },
  {
   "cell_type": "code",
   "execution_count": 10,
   "metadata": {},
   "outputs": [
    {
     "name": "stdout",
     "output_type": "stream",
     "text": [
      "Signal_region_Background_Modeling_Up.npz\r\n",
      "Signal_region_Background_Nominal.npz\r\n",
      "Signal_region_Background_WeightBasedModeling_Down.npz\r\n",
      "Signal_region_Background_WeightBasedModeling_Up.npz\r\n",
      "Signal_region_Data_Nominal.npz\r\n",
      "Signal_region_Signal_Nominal.npz\r\n"
     ]
    }
   ],
   "source": [
    "!ls histograms/"
   ]
  },
  {
   "cell_type": "markdown",
   "metadata": {},
   "source": [
    "It can be useful to apply additional post-processing after building template histograms.\n",
    "Such processing can for example replace ill-defined statistical uncertainties in empty bins by zero.\n",
    "It is performed via the `template_postprocessor` module:"
   ]
  },
  {
   "cell_type": "code",
   "execution_count": 11,
   "metadata": {},
   "outputs": [
    {
     "name": "stderr",
     "output_type": "stream",
     "text": [
      "WARNING - cabinetry.histo - Signal_region_Signal_Nominal has empty bins: [0]\n"
     ]
    }
   ],
   "source": [
    "cabinetry.template_postprocessor.run(cabinetry_config)"
   ]
  },
  {
   "cell_type": "markdown",
   "metadata": {},
   "source": [
    "New histograms have now appeard in the `histograms/` folder.\n",
    "These \"modified\" histograms include the changes applied by the postprocessor."
   ]
  },
  {
   "cell_type": "code",
   "execution_count": 12,
   "metadata": {},
   "outputs": [
    {
     "name": "stdout",
     "output_type": "stream",
     "text": [
      "Signal_region_Background_Modeling_Up.npz\r\n",
      "Signal_region_Background_Modeling_Up_modified.npz\r\n",
      "Signal_region_Background_Nominal.npz\r\n",
      "Signal_region_Background_Nominal_modified.npz\r\n",
      "Signal_region_Background_WeightBasedModeling_Down.npz\r\n",
      "Signal_region_Background_WeightBasedModeling_Down_modified.npz\r\n",
      "Signal_region_Background_WeightBasedModeling_Up.npz\r\n",
      "Signal_region_Background_WeightBasedModeling_Up_modified.npz\r\n",
      "Signal_region_Data_Nominal.npz\r\n",
      "Signal_region_Data_Nominal_modified.npz\r\n",
      "Signal_region_Signal_Nominal.npz\r\n",
      "Signal_region_Signal_Nominal_modified.npz\r\n"
     ]
    }
   ],
   "source": [
    "!ls histograms/"
   ]
  },
  {
   "cell_type": "markdown",
   "metadata": {},
   "source": [
    "## Workspace building\n",
    "\n",
    "Next, we build a `pyhf` workspace and serialize it to a file.\n",
    "The `workspace` module takes care of this task."
   ]
  },
  {
   "cell_type": "code",
   "execution_count": 13,
   "metadata": {},
   "outputs": [
    {
     "name": "stderr",
     "output_type": "stream",
     "text": [
      "INFO - cabinetry.workspace - building workspace\n",
      "INFO - pyhf.workspace - Validating spec against schema: workspace.json\n"
     ]
    }
   ],
   "source": [
    "workspace_path = \"workspaces/example_workspace.json\"\n",
    "ws = cabinetry.workspace.build(cabinetry_config)\n",
    "cabinetry.workspace.save(ws, workspace_path)"
   ]
  },
  {
   "cell_type": "markdown",
   "metadata": {},
   "source": [
    "## Fitting\n",
    "\n",
    "With the workspace build, we can perform a maximum likelihood fit.\n",
    "The results for the free parameters in the fit are reported."
   ]
  },
  {
   "cell_type": "code",
   "execution_count": 14,
   "metadata": {},
   "outputs": [
    {
     "name": "stderr",
     "output_type": "stream",
     "text": [
      "INFO - cabinetry.fit - performing maximum likelihood fit\n",
      "INFO - pyhf.workspace - Validating spec against schema: workspace.json\n",
      "INFO - pyhf.pdf - Validating spec against schema: model.json\n",
      "INFO - pyhf.pdf - adding modifier staterror_Signal_region (4 new nuisance parameters)\n",
      "INFO - pyhf.pdf - adding modifier Signal_norm (1 new nuisance parameters)\n",
      "INFO - pyhf.pdf - adding modifier Luminosity (1 new nuisance parameters)\n",
      "INFO - pyhf.pdf - adding modifier Modeling (1 new nuisance parameters)\n",
      "INFO - pyhf.pdf - adding modifier WeightBasedModeling (1 new nuisance parameters)\n",
      "INFO - cabinetry.fit - fit results (with symmetric uncertainties):\n",
      "INFO - cabinetry.fit - staterror_Signal_region[bin_0]:  1.0010 +/- 0.0411\n",
      "INFO - cabinetry.fit - staterror_Signal_region[bin_1]:  0.9891 +/- 0.0379\n",
      "INFO - cabinetry.fit - staterror_Signal_region[bin_2]:  1.0197 +/- 0.0365\n",
      "INFO - cabinetry.fit - staterror_Signal_region[bin_3]:  0.9830 +/- 0.0425\n",
      "INFO - cabinetry.fit - Signal_norm                   :  1.6895 +/- 0.9376\n",
      "INFO - cabinetry.fit - Luminosity                    : -0.0880 +/- 0.9913\n",
      "INFO - cabinetry.fit - Modeling                      : -0.3246 +/- 0.5547\n",
      "INFO - cabinetry.fit - WeightBasedModeling           : -0.5858 +/- 0.6265\n"
     ]
    },
    {
     "name": "stdout",
     "output_type": "stream",
     "text": [
      "┌──────────────────────────────────┬──────────────────────────────────────┐\n",
      "│ FCN = 17.19                      │        Nfcn = 266 (266 total)        │\n",
      "│ EDM = 1.12e-06 (Goal: 0.0002)    │                                      │\n",
      "├───────────────┬──────────────────┼──────────────────────────────────────┤\n",
      "│ Valid Minimum │ Valid Parameters │        No Parameters at limit        │\n",
      "├───────────────┴──────────────────┼──────────────────────────────────────┤\n",
      "│ Below EDM threshold (goal x 10)  │           Below call limit           │\n",
      "├───────────────┬──────────────────┼───────────┬─────────────┬────────────┤\n",
      "│   Hesse ok    │  Has Covariance  │ Accurate  │  Pos. def.  │ Not forced │\n",
      "└───────────────┴──────────────────┴───────────┴─────────────┴────────────┘\n"
     ]
    }
   ],
   "source": [
    "ws = cabinetry.workspace.load(workspace_path)\n",
    "fit_results = cabinetry.fit.fit(ws)"
   ]
  },
  {
   "cell_type": "markdown",
   "metadata": {},
   "source": [
    "We can also visualize the fit results.\n",
    "Below are the pulls and the correlation matrix.\n",
    "(The parameters for MC statistical uncertainty are currently included, but their norminal value is at 1 and their width corresponds to the MC statistical uncertainty instead of being normalized to 1)."
   ]
  },
  {
   "cell_type": "code",
   "execution_count": 15,
   "metadata": {},
   "outputs": [],
   "source": [
    "cabinetry.visualize.pulls(fit_results, exclude_list=[\"Signal_norm\"])\n",
    "cabinetry.visualize.correlation_matrix(fit_results)"
   ]
  },
  {
   "cell_type": "markdown",
   "metadata": {},
   "source": [
    "Take a look at the `figures/` folder to see the visualizations, or see below:"
   ]
  },
  {
   "cell_type": "code",
   "execution_count": 16,
   "metadata": {},
   "outputs": [
    {
     "data": {
      "text/html": [
       "\n",
       "        <iframe\n",
       "            width=\"600\"\n",
       "            height=\"250\"\n",
       "            src=\"figures/pulls.pdf\"\n",
       "            frameborder=\"0\"\n",
       "            allowfullscreen\n",
       "        ></iframe>\n",
       "        "
      ],
      "text/plain": [
       "<IPython.lib.display.IFrame at 0x7ffbee180e20>"
      ]
     },
     "execution_count": 16,
     "metadata": {},
     "output_type": "execute_result"
    }
   ],
   "source": [
    "from IPython.display import IFrame\n",
    "IFrame(\"figures/pulls.pdf\", width=600, height=250)"
   ]
  },
  {
   "cell_type": "code",
   "execution_count": 17,
   "metadata": {},
   "outputs": [
    {
     "data": {
      "text/html": [
       "\n",
       "        <iframe\n",
       "            width=\"600\"\n",
       "            height=\"550\"\n",
       "            src=\"figures/correlation_matrix.pdf\"\n",
       "            frameborder=\"0\"\n",
       "            allowfullscreen\n",
       "        ></iframe>\n",
       "        "
      ],
      "text/plain": [
       "<IPython.lib.display.IFrame at 0x7ffbee15ad60>"
      ]
     },
     "execution_count": 17,
     "metadata": {},
     "output_type": "execute_result"
    }
   ],
   "source": [
    "IFrame(\"figures/correlation_matrix.pdf\", width=600, height=550)"
   ]
  },
  {
   "cell_type": "markdown",
   "metadata": {},
   "source": [
    "## Visualizing templates\n",
    "\n",
    "What did we fit?\n",
    "The `visualize` module also contains functionality to plot data/MC distributions."
   ]
  },
  {
   "cell_type": "code",
   "execution_count": 18,
   "metadata": {},
   "outputs": [
    {
     "name": "stderr",
     "output_type": "stream",
     "text": [
      "INFO - pyhf.workspace - Validating spec against schema: workspace.json\n",
      "INFO - pyhf.pdf - Validating spec against schema: model.json\n",
      "INFO - pyhf.pdf - adding modifier staterror_Signal_region (4 new nuisance parameters)\n",
      "INFO - pyhf.pdf - adding modifier Signal_norm (1 new nuisance parameters)\n",
      "INFO - pyhf.pdf - adding modifier Luminosity (1 new nuisance parameters)\n",
      "INFO - pyhf.pdf - adding modifier Modeling (1 new nuisance parameters)\n",
      "INFO - pyhf.pdf - adding modifier WeightBasedModeling (1 new nuisance parameters)\n",
      "INFO - cabinetry.visualize - generating pre-fit yield table\n",
      "INFO - cabinetry.tabulate - yield table:\n",
      "╒════════════╤═════════════════╤════════════════╤════════════════╤═══════════════╕\n",
      "│ sample     │ Signal_region   │                │                │               │\n",
      "│            │ bin 1           │ bin 2          │ bin 3          │ bin 4         │\n",
      "╞════════════╪═════════════════╪════════════════╪════════════════╪═══════════════╡\n",
      "│ Background │ 112.74          │ 128.62         │ 88.11          │ 55.25         │\n",
      "├────────────┼─────────────────┼────────────────┼────────────────┼───────────────┤\n",
      "│ Signal     │ 0.00            │ 1.59           │ 23.62          │ 24.55         │\n",
      "├────────────┼─────────────────┼────────────────┼────────────────┼───────────────┤\n",
      "│ total      │ 112.74 ± 69.04  │ 130.21 ± 58.34 │ 111.72 ± 38.22 │ 79.79 ± 45.30 │\n",
      "├────────────┼─────────────────┼────────────────┼────────────────┼───────────────┤\n",
      "│ data       │ 112.00          │ 112.00         │ 124.00         │ 66.00         │\n",
      "╘════════════╧═════════════════╧════════════════╧════════════════╧═══════════════╛\n"
     ]
    }
   ],
   "source": [
    "cabinetry.visualize.data_MC(cabinetry_config, ws)"
   ]
  },
  {
   "cell_type": "markdown",
   "metadata": {},
   "source": [
    "We can also take a look at the post-fit model."
   ]
  },
  {
   "cell_type": "code",
   "execution_count": 19,
   "metadata": {},
   "outputs": [
    {
     "name": "stderr",
     "output_type": "stream",
     "text": [
      "INFO - pyhf.workspace - Validating spec against schema: workspace.json\n",
      "INFO - pyhf.pdf - Validating spec against schema: model.json\n",
      "INFO - pyhf.pdf - adding modifier staterror_Signal_region (4 new nuisance parameters)\n",
      "INFO - pyhf.pdf - adding modifier Signal_norm (1 new nuisance parameters)\n",
      "INFO - pyhf.pdf - adding modifier Luminosity (1 new nuisance parameters)\n",
      "INFO - pyhf.pdf - adding modifier Modeling (1 new nuisance parameters)\n",
      "INFO - pyhf.pdf - adding modifier WeightBasedModeling (1 new nuisance parameters)\n",
      "INFO - cabinetry.visualize - generating post-fit yield table\n",
      "INFO - cabinetry.tabulate - yield table:\n",
      "╒════════════╤═════════════════╤═══════════════╤═══════════════╤══════════════╕\n",
      "│ sample     │ Signal_region   │               │               │              │\n",
      "│            │ bin 1           │ bin 2         │ bin 3         │ bin 4        │\n",
      "╞════════════╪═════════════════╪═══════════════╪═══════════════╪══════════════╡\n",
      "│ Background │ 111.42          │ 116.36        │ 69.80         │ 34.42        │\n",
      "├────────────┼─────────────────┼───────────────┼───────────────┼──────────────┤\n",
      "│ Signal     │ 0.00            │ 2.64          │ 40.51         │ 40.59        │\n",
      "├────────────┼─────────────────┼───────────────┼───────────────┼──────────────┤\n",
      "│ total      │ 111.42 ± 11.88  │ 119.00 ± 7.28 │ 110.30 ± 7.41 │ 75.01 ± 7.69 │\n",
      "├────────────┼─────────────────┼───────────────┼───────────────┼──────────────┤\n",
      "│ data       │ 112.00          │ 112.00        │ 124.00        │ 66.00        │\n",
      "╘════════════╧═════════════════╧═══════════════╧═══════════════╧══════════════╛\n"
     ]
    }
   ],
   "source": [
    "cabinetry.visualize.data_MC(cabinetry_config, ws, fit_results=fit_results)"
   ]
  },
  {
   "cell_type": "markdown",
   "metadata": {},
   "source": [
    "The figures are again found in the `figures/` folder."
   ]
  },
  {
   "cell_type": "code",
   "execution_count": 20,
   "metadata": {},
   "outputs": [
    {
     "data": {
      "text/html": [
       "\n",
       "        <iframe\n",
       "            width=\"450\"\n",
       "            height=\"500\"\n",
       "            src=\"figures/Signal_region_prefit.pdf\"\n",
       "            frameborder=\"0\"\n",
       "            allowfullscreen\n",
       "        ></iframe>\n",
       "        "
      ],
      "text/plain": [
       "<IPython.lib.display.IFrame at 0x7ffbee89d8b0>"
      ]
     },
     "execution_count": 20,
     "metadata": {},
     "output_type": "execute_result"
    }
   ],
   "source": [
    "IFrame(\"figures/Signal_region_prefit.pdf\", width=450, height=500)"
   ]
  },
  {
   "cell_type": "code",
   "execution_count": 21,
   "metadata": {},
   "outputs": [
    {
     "data": {
      "text/html": [
       "\n",
       "        <iframe\n",
       "            width=\"450\"\n",
       "            height=\"500\"\n",
       "            src=\"figures/Signal_region_postfit.pdf\"\n",
       "            frameborder=\"0\"\n",
       "            allowfullscreen\n",
       "        ></iframe>\n",
       "        "
      ],
      "text/plain": [
       "<IPython.lib.display.IFrame at 0x7ffbee89dd60>"
      ]
     },
     "execution_count": 21,
     "metadata": {},
     "output_type": "execute_result"
    }
   ],
   "source": [
    "IFrame(\"figures/Signal_region_postfit.pdf\", width=450, height=500)"
   ]
  },
  {
   "cell_type": "code",
   "execution_count": null,
   "metadata": {},
   "outputs": [],
   "source": []
  }
 ],
 "metadata": {
  "kernelspec": {
   "display_name": "Python (pyhf)",
   "language": "python",
   "name": "pyhf"
  },
  "language_info": {
   "codemirror_mode": {
    "name": "ipython",
    "version": 3
   },
   "file_extension": ".py",
   "mimetype": "text/x-python",
   "name": "python",
   "nbconvert_exporter": "python",
   "pygments_lexer": "ipython3",
   "version": "3.8.3"
  }
 },
 "nbformat": 4,
 "nbformat_minor": 2
}
