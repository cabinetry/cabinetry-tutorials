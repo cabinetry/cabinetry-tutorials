{
 "cells": [
  {
   "cell_type": "code",
   "execution_count": 1,
   "metadata": {},
   "outputs": [],
   "source": [
    "import logging\n",
    "\n",
    "import cabinetry"
   ]
  },
  {
   "cell_type": "markdown",
   "metadata": {},
   "source": [
    "We start by configuring the output from `cabinetry` and suppress output from `matplotlib`. \n",
    "This customization is optional and has no impact on the functionality."
   ]
  },
  {
   "cell_type": "code",
   "execution_count": 2,
   "metadata": {},
   "outputs": [],
   "source": [
    "logging.basicConfig(\n",
    "    level=logging.INFO, format=\"%(levelname)s - %(name)s - %(message)s\"\n",
    ")\n",
    "logging.getLogger(\"matplotlib\").setLevel(logging.WARNING)"
   ]
  },
  {
   "cell_type": "markdown",
   "metadata": {},
   "source": [
    "## The configuration file\n",
    "\n",
    "The configuration file is the central place to configure `cabinetry`.\n",
    "Let's have a look at the example configuration file used in this notebook."
   ]
  },
  {
   "cell_type": "code",
   "execution_count": 3,
   "metadata": {},
   "outputs": [
    {
     "name": "stderr",
     "output_type": "stream",
     "text": [
      "INFO - cabinetry.configuration - opening config file config_example.yml\n",
      "INFO - cabinetry.configuration - the config contains:\n",
      "INFO - cabinetry.configuration -   3 Sample(s)\n",
      "INFO - cabinetry.configuration -   1 Regions(s)\n",
      "INFO - cabinetry.configuration -   1 NormFactor(s)\n",
      "INFO - cabinetry.configuration -   3 Systematic(s)\n"
     ]
    }
   ],
   "source": [
    "cabinetry_config = cabinetry.configuration.load(\"config_example.yml\")\n",
    "cabinetry.configuration.print_overview(cabinetry_config)"
   ]
  },
  {
   "cell_type": "markdown",
   "metadata": {},
   "source": [
    "The configuration file is split into four different blocks of settings. There are general settings:"
   ]
  },
  {
   "cell_type": "code",
   "execution_count": 4,
   "metadata": {},
   "outputs": [
    {
     "data": {
      "text/plain": [
       "{'Measurement': 'minimal_example',\n",
       " 'POI': 'Signal_norm',\n",
       " 'HistogramFolder': 'histograms/',\n",
       " 'InputPath': 'ntuples/{SamplePaths}'}"
      ]
     },
     "execution_count": 4,
     "metadata": {},
     "output_type": "execute_result"
    }
   ],
   "source": [
    "cabinetry_config[\"General\"]"
   ]
  },
  {
   "cell_type": "markdown",
   "metadata": {},
   "source": [
    "The list of phase space regions (channels), in this case we are considering just a single one:"
   ]
  },
  {
   "cell_type": "code",
   "execution_count": 5,
   "metadata": {},
   "outputs": [
    {
     "data": {
      "text/plain": [
       "[{'Name': 'Signal_region',\n",
       "  'Variable': 'jet_pt',\n",
       "  'Filter': 'lep_charge > 0',\n",
       "  'Binning': [200, 300, 400, 500, 600]}]"
      ]
     },
     "execution_count": 5,
     "metadata": {},
     "output_type": "execute_result"
    }
   ],
   "source": [
    "cabinetry_config[\"Regions\"]"
   ]
  },
  {
   "cell_type": "markdown",
   "metadata": {},
   "source": [
    "A list of samples, including data:"
   ]
  },
  {
   "cell_type": "code",
   "execution_count": 6,
   "metadata": {},
   "outputs": [
    {
     "data": {
      "text/plain": [
       "[{'Name': 'Data',\n",
       "  'Tree': 'pseudodata',\n",
       "  'SamplePaths': 'data.root',\n",
       "  'Data': True},\n",
       " {'Name': 'Signal',\n",
       "  'Tree': 'signal',\n",
       "  'SamplePaths': 'prediction.root',\n",
       "  'Weight': 'weight'},\n",
       " {'Name': 'Background',\n",
       "  'Tree': 'background',\n",
       "  'SamplePaths': 'prediction.root',\n",
       "  'Weight': 'weight'}]"
      ]
     },
     "execution_count": 6,
     "metadata": {},
     "output_type": "execute_result"
    }
   ],
   "source": [
    "cabinetry_config[\"Samples\"]"
   ]
  },
  {
   "cell_type": "markdown",
   "metadata": {},
   "source": [
    "A list of normalization factors:"
   ]
  },
  {
   "cell_type": "code",
   "execution_count": 7,
   "metadata": {},
   "outputs": [
    {
     "data": {
      "text/plain": [
       "[{'Name': 'Signal_norm', 'Samples': 'Signal', 'Nominal': 1, 'Bounds': [0, 10]}]"
      ]
     },
     "execution_count": 7,
     "metadata": {},
     "output_type": "execute_result"
    }
   ],
   "source": [
    "cabinetry_config[\"NormFactors\"]"
   ]
  },
  {
   "cell_type": "markdown",
   "metadata": {},
   "source": [
    "And finally a list of systematic uncertainties. In this case there are three systematic uncertainties:"
   ]
  },
  {
   "cell_type": "code",
   "execution_count": 8,
   "metadata": {},
   "outputs": [
    {
     "data": {
      "text/plain": [
       "[{'Name': 'Luminosity',\n",
       "  'Up': {'Normalization': 0.05},\n",
       "  'Down': {'Normalization': -0.05},\n",
       "  'Samples': ['Signal', 'Background'],\n",
       "  'Type': 'Normalization'},\n",
       " {'Name': 'Modeling',\n",
       "  'Up': {'SamplePaths': 'prediction.root', 'Tree': 'background_varied'},\n",
       "  'Down': {'Symmetrize': True},\n",
       "  'Samples': 'Background',\n",
       "  'Type': 'NormPlusShape'},\n",
       " {'Name': 'WeightBasedModeling',\n",
       "  'Up': {'Weight': 'weight_up'},\n",
       "  'Down': {'Weight': '0.7*weight'},\n",
       "  'Samples': 'Background',\n",
       "  'Type': 'NormPlusShape'}]"
      ]
     },
     "execution_count": 8,
     "metadata": {},
     "output_type": "execute_result"
    }
   ],
   "source": [
    "cabinetry_config[\"Systematics\"]"
   ]
  },
  {
   "cell_type": "markdown",
   "metadata": {},
   "source": [
    "Regions, samples, normalization factors and systematics all can be identified by their names."
   ]
  },
  {
   "cell_type": "markdown",
   "metadata": {},
   "source": [
    "## Creating template histograms\n",
    "\n",
    "We use the `template_builder` module to create all histograms needed to build the workspace defined in the configuration file."
   ]
  },
  {
   "cell_type": "code",
   "execution_count": 9,
   "metadata": {},
   "outputs": [
    {
     "name": "stderr",
     "output_type": "stream",
     "text": [
      "WARNING - cabinetry.histo - Signal_region_Signal_Nominal has empty bins: [0]\n"
     ]
    }
   ],
   "source": [
    "cabinetry.template_builder.create_histograms(cabinetry_config, method=\"uproot\")"
   ]
  },
  {
   "cell_type": "markdown",
   "metadata": {},
   "source": [
    "The histograms are saved to the folder specified under `HistogramFolder` in the `General` settings in the configuration file.\n",
    "In this case, this folder is `histograms/`:"
   ]
  },
  {
   "cell_type": "code",
   "execution_count": 10,
   "metadata": {},
   "outputs": [
    {
     "name": "stdout",
     "output_type": "stream",
     "text": [
      "Signal_region_Background_Modeling_Up.npz\r\n",
      "Signal_region_Background_Modeling_Up_modified.npz\r\n",
      "Signal_region_Background_Nominal.npz\r\n",
      "Signal_region_Background_Nominal_modified.npz\r\n",
      "Signal_region_Background_WeightBasedModeling_Down.npz\r\n",
      "Signal_region_Background_WeightBasedModeling_Down_modified.npz\r\n",
      "Signal_region_Background_WeightBasedModeling_Up.npz\r\n",
      "Signal_region_Background_WeightBasedModeling_Up_modified.npz\r\n",
      "Signal_region_Data_Nominal.npz\r\n",
      "Signal_region_Data_Nominal_modified.npz\r\n",
      "Signal_region_Signal_Nominal.npz\r\n",
      "Signal_region_Signal_Nominal_modified.npz\r\n"
     ]
    }
   ],
   "source": [
    "!ls histograms/"
   ]
  },
  {
   "cell_type": "markdown",
   "metadata": {},
   "source": [
    "It can be useful to apply additional post-processing after building template histograms.\n",
    "Such processing can for example replace ill-defined statistical uncertainties in empty bins by zero.\n",
    "It is performed via the `template_postprocessor` module:"
   ]
  },
  {
   "cell_type": "code",
   "execution_count": 11,
   "metadata": {},
   "outputs": [
    {
     "name": "stderr",
     "output_type": "stream",
     "text": [
      "WARNING - cabinetry.histo - Signal_region_Signal_Nominal has empty bins: [0]\n"
     ]
    }
   ],
   "source": [
    "cabinetry.template_postprocessor.run(cabinetry_config)"
   ]
  },
  {
   "cell_type": "markdown",
   "metadata": {},
   "source": [
    "New histograms have now appeard in the `histograms/` folder.\n",
    "These \"modified\" histograms include the changes applied by the postprocessor."
   ]
  },
  {
   "cell_type": "code",
   "execution_count": 12,
   "metadata": {},
   "outputs": [
    {
     "name": "stdout",
     "output_type": "stream",
     "text": [
      "Signal_region_Background_Modeling_Up.npz\r\n",
      "Signal_region_Background_Modeling_Up_modified.npz\r\n",
      "Signal_region_Background_Nominal.npz\r\n",
      "Signal_region_Background_Nominal_modified.npz\r\n",
      "Signal_region_Background_WeightBasedModeling_Down.npz\r\n",
      "Signal_region_Background_WeightBasedModeling_Down_modified.npz\r\n",
      "Signal_region_Background_WeightBasedModeling_Up.npz\r\n",
      "Signal_region_Background_WeightBasedModeling_Up_modified.npz\r\n",
      "Signal_region_Data_Nominal.npz\r\n",
      "Signal_region_Data_Nominal_modified.npz\r\n",
      "Signal_region_Signal_Nominal.npz\r\n",
      "Signal_region_Signal_Nominal_modified.npz\r\n"
     ]
    }
   ],
   "source": [
    "!ls histograms/"
   ]
  },
  {
   "cell_type": "markdown",
   "metadata": {},
   "source": [
    "## Workspace building\n",
    "\n",
    "Next, we build a `pyhf` workspace and serialize it to a file.\n",
    "The `workspace` module takes care of this task."
   ]
  },
  {
   "cell_type": "code",
   "execution_count": 13,
   "metadata": {},
   "outputs": [
    {
     "name": "stderr",
     "output_type": "stream",
     "text": [
      "INFO - cabinetry.workspace - building workspace\n",
      "INFO - pyhf.workspace - Validating spec against schema: workspace.json\n"
     ]
    }
   ],
   "source": [
    "workspace_path = \"workspaces/example_workspace.json\"\n",
    "ws = cabinetry.workspace.build(cabinetry_config)\n",
    "cabinetry.workspace.save(ws, workspace_path)"
   ]
  },
  {
   "cell_type": "markdown",
   "metadata": {},
   "source": [
    "## Fitting\n",
    "\n",
    "With the workspace build, we can perform a maximum likelihood fit.\n",
    "The fit model (probability density function) and data (including auxiliary data for auxiliary measurements, see the HistFactory documentation https://cds.cern.ch/record/1456844) are obtained from the workspace object.\n",
    "The results for the fitted parameters are reported.\n",
    "The `cabinetry.model_utils.model_and_data` function has an `asimov` keyword argument, which we can set to true to instead study the expected performance with an Asimov dataset."
   ]
  },
  {
   "cell_type": "code",
   "execution_count": 14,
   "metadata": {},
   "outputs": [
    {
     "name": "stderr",
     "output_type": "stream",
     "text": [
      "INFO - pyhf.workspace - Validating spec against schema: workspace.json\n",
      "INFO - pyhf.pdf - Validating spec against schema: model.json\n",
      "INFO - pyhf.pdf - adding modifier staterror_Signal_region (4 new nuisance parameters)\n",
      "INFO - pyhf.pdf - adding modifier Signal_norm (1 new nuisance parameters)\n",
      "INFO - pyhf.pdf - adding modifier Luminosity (1 new nuisance parameters)\n",
      "INFO - pyhf.pdf - adding modifier Modeling (1 new nuisance parameters)\n",
      "INFO - pyhf.pdf - adding modifier WeightBasedModeling (1 new nuisance parameters)\n",
      "INFO - cabinetry.fit - performing maximum likelihood fit\n",
      "INFO - cabinetry.fit - MINUIT status:\n",
      "┌──────────────────────────────────┬──────────────────────────────────────┐\n",
      "│ FCN = 17.19                      │              Nfcn = 327              │\n",
      "│ EDM = 1.12e-06 (Goal: 0.0002)    │                                      │\n",
      "├───────────────┬──────────────────┼──────────────────────────────────────┤\n",
      "│ Valid Minimum │ Valid Parameters │        No Parameters at limit        │\n",
      "├───────────────┴──────────────────┼──────────────────────────────────────┤\n",
      "│ Below EDM threshold (goal x 10)  │           Below call limit           │\n",
      "├───────────────┬──────────────────┼───────────┬─────────────┬────────────┤\n",
      "│  Covariance   │     Hesse ok     │ Accurate  │  Pos. def.  │ Not forced │\n",
      "└───────────────┴──────────────────┴───────────┴─────────────┴────────────┘\n",
      "INFO - cabinetry.fit - fit results (with symmetric uncertainties):\n",
      "INFO - cabinetry.fit - staterror_Signal_region[bin_0] =  1.0010 +/- 0.0411\n",
      "INFO - cabinetry.fit - staterror_Signal_region[bin_1] =  0.9891 +/- 0.0379\n",
      "INFO - cabinetry.fit - staterror_Signal_region[bin_2] =  1.0197 +/- 0.0365\n",
      "INFO - cabinetry.fit - staterror_Signal_region[bin_3] =  0.9830 +/- 0.0425\n",
      "INFO - cabinetry.fit - Signal_norm                    =  1.6895 +/- 0.9389\n",
      "INFO - cabinetry.fit - Luminosity                     = -0.0880 +/- 0.9913\n",
      "INFO - cabinetry.fit - Modeling                       = -0.3246 +/- 0.5555\n",
      "INFO - cabinetry.fit - WeightBasedModeling            = -0.5858 +/- 0.6272\n"
     ]
    }
   ],
   "source": [
    "bws = cabinetry.workspace.load(workspace_path)\n",
    "model, data = cabinetry.model_utils.model_and_data(ws)\n",
    "fit_results = cabinetry.fit.fit(model, data)"
   ]
  },
  {
   "cell_type": "markdown",
   "metadata": {},
   "source": [
    "We can also visualize the fit results.\n",
    "Below are the pulls and the correlation matrix.\n",
    "(The parameters for MC statistical uncertainty are currently included, but their norminal value is at 1 and their width corresponds to the MC statistical uncertainty instead of being normalized to 1)."
   ]
  },
  {
   "cell_type": "code",
   "execution_count": 15,
   "metadata": {},
   "outputs": [],
   "source": [
    "cabinetry.visualize.pulls(fit_results, exclude=[\"Signal_norm\"])\n",
    "cabinetry.visualize.correlation_matrix(fit_results)"
   ]
  },
  {
   "cell_type": "markdown",
   "metadata": {},
   "source": [
    "Take a look at the `figures/` folder to see the visualizations, or see below.\n",
    "We visualize the pdf in this notebook with the [Wand](https://docs.wand-py.org/) library."
   ]
  },
  {
   "cell_type": "code",
   "execution_count": 16,
   "metadata": {},
   "outputs": [
    {
     "data": {
      "image/png": "[encoded data removed]",
      "text/plain": [
       "<wand.image.Image: 89e04fa 'PDF' (432x126)>"
      ]
     },
     "execution_count": 16,
     "metadata": {},
     "output_type": "execute_result"
    }
   ],
   "source": [
    "from wand.image import Image as WImage\n",
    "WImage(filename='figures/pulls.pdf')"
   ]
  },
  {
   "cell_type": "code",
   "execution_count": 17,
   "metadata": {},
   "outputs": [
    {
     "data": {
      "image/png": "[encoded data removed]",
      "text/plain": [
       "<wand.image.Image: caa6012 'PDF' (720x576)>"
      ]
     },
     "execution_count": 17,
     "metadata": {},
     "output_type": "execute_result"
    }
   ],
   "source": [
    "WImage(filename='figures/correlation_matrix.pdf')"
   ]
  },
  {
   "cell_type": "markdown",
   "metadata": {},
   "source": [
    "## Visualizing templates\n",
    "\n",
    "What did we fit?\n",
    "The `visualize` module also contains functionality to plot data/MC distributions.\n",
    "It also creates yield tables, both for yields per bin and for all bins in a region summed.\n",
    "The `config` keyword argument is optional, but required for correct horizontal axis labels, since the observable and bin edges are not part of the `pyhf` workspace.\n",
    "Since this argument is optional, you can use `cabinetry.visualize.data_MC` with any workspace: it does not matter whether it was created with `cabinetry` or otherwise, since you do not need a configuration file. "
   ]
  },
  {
   "cell_type": "code",
   "execution_count": 18,
   "metadata": {},
   "outputs": [
    {
     "name": "stderr",
     "output_type": "stream",
     "text": [
      "INFO - cabinetry.visualize - generating pre-fit yield table\n",
      "INFO - cabinetry.tabulate - yields per bin:\n",
      "╒════════════╤═════════════════╤════════════════╤════════════════╤═══════════════╕\n",
      "│ sample     │ Signal_region   │                │                │               │\n",
      "│            │ bin 1           │ bin 2          │ bin 3          │ bin 4         │\n",
      "╞════════════╪═════════════════╪════════════════╪════════════════╪═══════════════╡\n",
      "│ Background │ 112.74          │ 128.62         │ 88.11          │ 55.25         │\n",
      "├────────────┼─────────────────┼────────────────┼────────────────┼───────────────┤\n",
      "│ Signal     │ 0.00            │ 1.59           │ 23.62          │ 24.55         │\n",
      "├────────────┼─────────────────┼────────────────┼────────────────┼───────────────┤\n",
      "│ total      │ 112.74 ± 69.04  │ 130.21 ± 58.34 │ 111.72 ± 38.22 │ 79.79 ± 45.30 │\n",
      "├────────────┼─────────────────┼────────────────┼────────────────┼───────────────┤\n",
      "│ data       │ 112.00          │ 112.00         │ 124.00         │ 66.00         │\n",
      "╘════════════╧═════════════════╧════════════════╧════════════════╧═══════════════╛\n",
      "INFO - cabinetry.tabulate - yields per channel:\n",
      "╒════════════╤═════════════════╕\n",
      "│ sample     │ Signal_region   │\n",
      "╞════════════╪═════════════════╡\n",
      "│ Background │ 384.71          │\n",
      "├────────────┼─────────────────┤\n",
      "│ Signal     │ 49.75           │\n",
      "├────────────┼─────────────────┤\n",
      "│ total      │ 434.46 ± 136.79 │\n",
      "├────────────┼─────────────────┤\n",
      "│ data       │ 414.00          │\n",
      "╘════════════╧═════════════════╛\n"
     ]
    }
   ],
   "source": [
    "cabinetry.visualize.data_MC(model, data, config=cabinetry_config)"
   ]
  },
  {
   "cell_type": "markdown",
   "metadata": {},
   "source": [
    "We can also take a look at the post-fit model."
   ]
  },
  {
   "cell_type": "code",
   "execution_count": 19,
   "metadata": {},
   "outputs": [
    {
     "name": "stderr",
     "output_type": "stream",
     "text": [
      "INFO - cabinetry.visualize - generating post-fit yield table\n",
      "INFO - cabinetry.tabulate - yields per bin:\n",
      "╒════════════╤═════════════════╤═══════════════╤═══════════════╤══════════════╕\n",
      "│ sample     │ Signal_region   │               │               │              │\n",
      "│            │ bin 1           │ bin 2         │ bin 3         │ bin 4        │\n",
      "╞════════════╪═════════════════╪═══════════════╪═══════════════╪══════════════╡\n",
      "│ Background │ 111.42          │ 116.36        │ 69.80         │ 34.42        │\n",
      "├────────────┼─────────────────┼───────────────┼───────────────┼──────────────┤\n",
      "│ Signal     │ 0.00            │ 2.64          │ 40.51         │ 40.59        │\n",
      "├────────────┼─────────────────┼───────────────┼───────────────┼──────────────┤\n",
      "│ total      │ 111.42 ± 11.90  │ 119.00 ± 7.28 │ 110.30 ± 7.41 │ 75.01 ± 7.69 │\n",
      "├────────────┼─────────────────┼───────────────┼───────────────┼──────────────┤\n",
      "│ data       │ 112.00          │ 112.00        │ 124.00        │ 66.00        │\n",
      "╘════════════╧═════════════════╧═══════════════╧═══════════════╧══════════════╛\n",
      "INFO - cabinetry.tabulate - yields per channel:\n",
      "╒════════════╤═════════════════╕\n",
      "│ sample     │ Signal_region   │\n",
      "╞════════════╪═════════════════╡\n",
      "│ Background │ 331.99          │\n",
      "├────────────┼─────────────────┤\n",
      "│ Signal     │ 83.73           │\n",
      "├────────────┼─────────────────┤\n",
      "│ total      │ 415.73 ± 20.33  │\n",
      "├────────────┼─────────────────┤\n",
      "│ data       │ 414.00          │\n",
      "╘════════════╧═════════════════╛\n"
     ]
    }
   ],
   "source": [
    "cabinetry.visualize.data_MC(model, data, config=cabinetry_config, fit_results=fit_results)"
   ]
  },
  {
   "cell_type": "markdown",
   "metadata": {},
   "source": [
    "The figures are again found in the `figures/` folder."
   ]
  },
  {
   "cell_type": "code",
   "execution_count": 20,
   "metadata": {},
   "outputs": [
    {
     "data": {
      "image/png": "[encoded data removed]",
      "text/plain": [
       "<wand.image.Image: 85cd7b7 'PDF' (432x432)>"
      ]
     },
     "execution_count": 20,
     "metadata": {},
     "output_type": "execute_result"
    }
   ],
   "source": [
    "WImage(filename='figures/Signal_region_prefit.pdf')"
   ]
  },
  {
   "cell_type": "code",
   "execution_count": 21,
   "metadata": {},
   "outputs": [
    {
     "data": {
      "image/png": "[encoded data removed]",
      "text/plain": [
       "<wand.image.Image: 59c950d 'PDF' (432x432)>"
      ]
     },
     "execution_count": 21,
     "metadata": {},
     "output_type": "execute_result"
    }
   ],
   "source": [
    "WImage(filename='figures/Signal_region_postfit.pdf')"
   ]
  },
  {
   "cell_type": "markdown",
   "metadata": {},
   "source": [
    "## Beyond simple maximum likelihood fitting \n",
    "\n",
    "`cabinetry` provides a range of useful utilities for statistical inference besides simple maximum likelihood fitting.\n",
    "To start, let's look at ranking nuisance parameters by their impact on the parameter of interest."
   ]
  },
  {
   "cell_type": "code",
   "execution_count": 22,
   "metadata": {},
   "outputs": [
    {
     "name": "stderr",
     "output_type": "stream",
     "text": [
      "INFO - cabinetry.fit - MINUIT status:\n",
      "┌──────────────────────────────────┬──────────────────────────────────────┐\n",
      "│ FCN = 17.19                      │              Nfcn = 327              │\n",
      "│ EDM = 1.12e-06 (Goal: 0.0002)    │                                      │\n",
      "├───────────────┬──────────────────┼──────────────────────────────────────┤\n",
      "│ Valid Minimum │ Valid Parameters │        No Parameters at limit        │\n",
      "├───────────────┴──────────────────┼──────────────────────────────────────┤\n",
      "│ Below EDM threshold (goal x 10)  │           Below call limit           │\n",
      "├───────────────┬──────────────────┼───────────┬─────────────┬────────────┤\n",
      "│  Covariance   │     Hesse ok     │ Accurate  │  Pos. def.  │ Not forced │\n",
      "└───────────────┴──────────────────┴───────────┴─────────────┴────────────┘\n",
      "INFO - cabinetry.fit - calculating impact of staterror_Signal_region[bin_0] on Signal_norm\n",
      "INFO - cabinetry.fit - MINUIT status:\n",
      "┌──────────────────────────────────┬──────────────────────────────────────┐\n",
      "│ FCN = 18.25                      │              Nfcn = 268              │\n",
      "│ EDM = 7.11e-05 (Goal: 0.0002)    │                                      │\n",
      "├───────────────┬──────────────────┼──────────────────────────────────────┤\n",
      "│ Valid Minimum │ Valid Parameters │        No Parameters at limit        │\n",
      "├───────────────┴──────────────────┼──────────────────────────────────────┤\n",
      "│ Below EDM threshold (goal x 10)  │           Below call limit           │\n",
      "├───────────────┬──────────────────┼───────────┬─────────────┬────────────┤\n",
      "│  Covariance   │     Hesse ok     │ Accurate  │  Pos. def.  │ Not forced │\n",
      "└───────────────┴──────────────────┴───────────┴─────────────┴────────────┘\n",
      "INFO - cabinetry.fit - MINUIT status:\n",
      "┌──────────────────────────────────┬──────────────────────────────────────┐\n",
      "│ FCN = 18.26                      │              Nfcn = 253              │\n",
      "│ EDM = 0.000144 (Goal: 0.0002)    │                                      │\n",
      "├───────────────┬──────────────────┼──────────────────────────────────────┤\n",
      "│ Valid Minimum │ Valid Parameters │        No Parameters at limit        │\n",
      "├───────────────┴──────────────────┼──────────────────────────────────────┤\n",
      "│ Below EDM threshold (goal x 10)  │           Below call limit           │\n",
      "├───────────────┬──────────────────┼───────────┬─────────────┬────────────┤\n",
      "│  Covariance   │     Hesse ok     │ Accurate  │  Pos. def.  │ Not forced │\n",
      "└───────────────┴──────────────────┴───────────┴─────────────┴────────────┘\n",
      "INFO - cabinetry.fit - MINUIT status:\n",
      "┌──────────────────────────────────┬──────────────────────────────────────┐\n",
      "│ FCN = 18.19                      │              Nfcn = 268              │\n",
      "│ EDM = 7.23e-05 (Goal: 0.0002)    │                                      │\n",
      "├───────────────┬──────────────────┼──────────────────────────────────────┤\n",
      "│ Valid Minimum │ Valid Parameters │        No Parameters at limit        │\n",
      "├───────────────┴──────────────────┼──────────────────────────────────────┤\n",
      "│ Below EDM threshold (goal x 10)  │           Below call limit           │\n",
      "├───────────────┬──────────────────┼───────────┬─────────────┬────────────┤\n",
      "│  Covariance   │     Hesse ok     │ Accurate  │  Pos. def.  │ Not forced │\n",
      "└───────────────┴──────────────────┴───────────┴─────────────┴────────────┘\n",
      "INFO - cabinetry.fit - MINUIT status:\n",
      "┌──────────────────────────────────┬──────────────────────────────────────┐\n",
      "│ FCN = 18.2                       │              Nfcn = 268              │\n",
      "│ EDM = 2.58e-06 (Goal: 0.0002)    │                                      │\n",
      "├───────────────┬──────────────────┼──────────────────────────────────────┤\n",
      "│ Valid Minimum │ Valid Parameters │        No Parameters at limit        │\n",
      "├───────────────┴──────────────────┼──────────────────────────────────────┤\n",
      "│ Below EDM threshold (goal x 10)  │           Below call limit           │\n",
      "├───────────────┬──────────────────┼───────────┬─────────────┬────────────┤\n",
      "│  Covariance   │     Hesse ok     │ Accurate  │  Pos. def.  │ Not forced │\n",
      "└───────────────┴──────────────────┴───────────┴─────────────┴────────────┘\n",
      "INFO - cabinetry.fit - calculating impact of staterror_Signal_region[bin_1] on Signal_norm\n",
      "INFO - cabinetry.fit - MINUIT status:\n",
      "┌──────────────────────────────────┬──────────────────────────────────────┐\n",
      "│ FCN = 18.26                      │              Nfcn = 286              │\n",
      "│ EDM = 3.13e-06 (Goal: 0.0002)    │                                      │\n",
      "├───────────────┬──────────────────┼──────────────────────────────────────┤\n",
      "│ Valid Minimum │ Valid Parameters │        No Parameters at limit        │\n",
      "├───────────────┴──────────────────┼──────────────────────────────────────┤\n",
      "│ Below EDM threshold (goal x 10)  │           Below call limit           │\n",
      "├───────────────┬──────────────────┼───────────┬─────────────┬────────────┤\n",
      "│  Covariance   │     Hesse ok     │ Accurate  │  Pos. def.  │ Not forced │\n",
      "└───────────────┴──────────────────┴───────────┴─────────────┴────────────┘\n",
      "INFO - cabinetry.fit - MINUIT status:\n",
      "┌──────────────────────────────────┬──────────────────────────────────────┐\n",
      "│ FCN = 18.27                      │              Nfcn = 269              │\n",
      "│ EDM = 3.68e-05 (Goal: 0.0002)    │                                      │\n",
      "├───────────────┬──────────────────┼──────────────────────────────────────┤\n",
      "│ Valid Minimum │ Valid Parameters │        No Parameters at limit        │\n",
      "├───────────────┴──────────────────┼──────────────────────────────────────┤\n",
      "│ Below EDM threshold (goal x 10)  │           Below call limit           │\n",
      "├───────────────┬──────────────────┼───────────┬─────────────┬────────────┤\n",
      "│  Covariance   │     Hesse ok     │ Accurate  │  Pos. def.  │ Not forced │\n",
      "└───────────────┴──────────────────┴───────────┴─────────────┴────────────┘\n",
      "INFO - cabinetry.fit - MINUIT status:\n",
      "┌──────────────────────────────────┬──────────────────────────────────────┐\n",
      "│ FCN = 18.19                      │              Nfcn = 286              │\n",
      "│ EDM = 3.01e-06 (Goal: 0.0002)    │                                      │\n",
      "├───────────────┬──────────────────┼──────────────────────────────────────┤\n",
      "│ Valid Minimum │ Valid Parameters │        No Parameters at limit        │\n",
      "├───────────────┴──────────────────┼──────────────────────────────────────┤\n",
      "│ Below EDM threshold (goal x 10)  │           Below call limit           │\n",
      "├───────────────┬──────────────────┼───────────┬─────────────┬────────────┤\n",
      "│  Covariance   │     Hesse ok     │ Accurate  │  Pos. def.  │ Not forced │\n",
      "└───────────────┴──────────────────┴───────────┴─────────────┴────────────┘\n",
      "INFO - cabinetry.fit - MINUIT status:\n",
      "┌──────────────────────────────────┬──────────────────────────────────────┐\n",
      "│ FCN = 18.2                       │              Nfcn = 271              │\n",
      "│ EDM = 6.06e-05 (Goal: 0.0002)    │                                      │\n",
      "├───────────────┬──────────────────┼──────────────────────────────────────┤\n",
      "│ Valid Minimum │ Valid Parameters │        No Parameters at limit        │\n",
      "├───────────────┴──────────────────┼──────────────────────────────────────┤\n",
      "│ Below EDM threshold (goal x 10)  │           Below call limit           │\n",
      "├───────────────┬──────────────────┼───────────┬─────────────┬────────────┤\n",
      "│  Covariance   │     Hesse ok     │ Accurate  │  Pos. def.  │ Not forced │\n",
      "└───────────────┴──────────────────┴───────────┴─────────────┴────────────┘\n",
      "INFO - cabinetry.fit - calculating impact of staterror_Signal_region[bin_2] on Signal_norm\n",
      "INFO - cabinetry.fit - MINUIT status:\n",
      "┌──────────────────────────────────┬──────────────────────────────────────┐\n",
      "│ FCN = 18.29                      │              Nfcn = 269              │\n",
      "│ EDM = 7.4e-05 (Goal: 0.0002)     │                                      │\n",
      "├───────────────┬──────────────────┼──────────────────────────────────────┤\n",
      "│ Valid Minimum │ Valid Parameters │        No Parameters at limit        │\n",
      "├───────────────┴──────────────────┼──────────────────────────────────────┤\n",
      "│ Below EDM threshold (goal x 10)  │           Below call limit           │\n",
      "├───────────────┬──────────────────┼───────────┬─────────────┬────────────┤\n",
      "│  Covariance   │     Hesse ok     │ Accurate  │  Pos. def.  │ Not forced │\n",
      "└───────────────┴──────────────────┴───────────┴─────────────┴────────────┘\n"
     ]
    },
    {
     "name": "stderr",
     "output_type": "stream",
     "text": [
      "INFO - cabinetry.fit - MINUIT status:\n",
      "┌──────────────────────────────────┬──────────────────────────────────────┐\n",
      "│ FCN = 18.3                       │              Nfcn = 270              │\n",
      "│ EDM = 6.29e-05 (Goal: 0.0002)    │                                      │\n",
      "├───────────────┬──────────────────┼──────────────────────────────────────┤\n",
      "│ Valid Minimum │ Valid Parameters │        No Parameters at limit        │\n",
      "├───────────────┴──────────────────┼──────────────────────────────────────┤\n",
      "│ Below EDM threshold (goal x 10)  │           Below call limit           │\n",
      "├───────────────┬──────────────────┼───────────┬─────────────┬────────────┤\n",
      "│  Covariance   │     Hesse ok     │ Accurate  │  Pos. def.  │ Not forced │\n",
      "└───────────────┴──────────────────┴───────────┴─────────────┴────────────┘\n",
      "INFO - cabinetry.fit - MINUIT status:\n",
      "┌──────────────────────────────────┬──────────────────────────────────────┐\n",
      "│ FCN = 18.19                      │              Nfcn = 269              │\n",
      "│ EDM = 8.23e-05 (Goal: 0.0002)    │                                      │\n",
      "├───────────────┬──────────────────┼──────────────────────────────────────┤\n",
      "│ Valid Minimum │ Valid Parameters │        No Parameters at limit        │\n",
      "├───────────────┴──────────────────┼──────────────────────────────────────┤\n",
      "│ Below EDM threshold (goal x 10)  │           Below call limit           │\n",
      "├───────────────┬──────────────────┼───────────┬─────────────┬────────────┤\n",
      "│  Covariance   │     Hesse ok     │ Accurate  │  Pos. def.  │ Not forced │\n",
      "└───────────────┴──────────────────┴───────────┴─────────────┴────────────┘\n",
      "INFO - cabinetry.fit - MINUIT status:\n",
      "┌──────────────────────────────────┬──────────────────────────────────────┐\n",
      "│ FCN = 18.2                       │              Nfcn = 270              │\n",
      "│ EDM = 5.91e-05 (Goal: 0.0002)    │                                      │\n",
      "├───────────────┬──────────────────┼──────────────────────────────────────┤\n",
      "│ Valid Minimum │ Valid Parameters │        No Parameters at limit        │\n",
      "├───────────────┴──────────────────┼──────────────────────────────────────┤\n",
      "│ Below EDM threshold (goal x 10)  │           Below call limit           │\n",
      "├───────────────┬──────────────────┼───────────┬─────────────┬────────────┤\n",
      "│  Covariance   │     Hesse ok     │ Accurate  │  Pos. def.  │ Not forced │\n",
      "└───────────────┴──────────────────┴───────────┴─────────────┴────────────┘\n",
      "INFO - cabinetry.fit - calculating impact of staterror_Signal_region[bin_3] on Signal_norm\n",
      "INFO - cabinetry.fit - MINUIT status:\n",
      "┌──────────────────────────────────┬──────────────────────────────────────┐\n",
      "│ FCN = 18.22                      │              Nfcn = 269              │\n",
      "│ EDM = 1.08e-05 (Goal: 0.0002)    │                                      │\n",
      "├───────────────┬──────────────────┼──────────────────────────────────────┤\n",
      "│ Valid Minimum │ Valid Parameters │        No Parameters at limit        │\n",
      "├───────────────┴──────────────────┼──────────────────────────────────────┤\n",
      "│ Below EDM threshold (goal x 10)  │           Below call limit           │\n",
      "├───────────────┬──────────────────┼───────────┬─────────────┬────────────┤\n",
      "│  Covariance   │     Hesse ok     │ Accurate  │  Pos. def.  │ Not forced │\n",
      "└───────────────┴──────────────────┴───────────┴─────────────┴────────────┘\n",
      "INFO - cabinetry.fit - MINUIT status:\n",
      "┌──────────────────────────────────┬──────────────────────────────────────┐\n",
      "│ FCN = 18.23                      │              Nfcn = 286              │\n",
      "│ EDM = 4.03e-06 (Goal: 0.0002)    │                                      │\n",
      "├───────────────┬──────────────────┼──────────────────────────────────────┤\n",
      "│ Valid Minimum │ Valid Parameters │        No Parameters at limit        │\n",
      "├───────────────┴──────────────────┼──────────────────────────────────────┤\n",
      "│ Below EDM threshold (goal x 10)  │           Below call limit           │\n",
      "├───────────────┬──────────────────┼───────────┬─────────────┬────────────┤\n",
      "│  Covariance   │     Hesse ok     │ Accurate  │  Pos. def.  │ Not forced │\n",
      "└───────────────┴──────────────────┴───────────┴─────────────┴────────────┘\n",
      "INFO - cabinetry.fit - MINUIT status:\n",
      "┌──────────────────────────────────┬──────────────────────────────────────┐\n",
      "│ FCN = 18.19                      │              Nfcn = 269              │\n",
      "│ EDM = 1.49e-05 (Goal: 0.0002)    │                                      │\n",
      "├───────────────┬──────────────────┼──────────────────────────────────────┤\n",
      "│ Valid Minimum │ Valid Parameters │        No Parameters at limit        │\n",
      "├───────────────┴──────────────────┼──────────────────────────────────────┤\n",
      "│ Below EDM threshold (goal x 10)  │           Below call limit           │\n",
      "├───────────────┬──────────────────┼───────────┬─────────────┬────────────┤\n",
      "│  Covariance   │     Hesse ok     │ Accurate  │  Pos. def.  │ Not forced │\n",
      "└───────────────┴──────────────────┴───────────┴─────────────┴────────────┘\n",
      "INFO - cabinetry.fit - MINUIT status:\n",
      "┌──────────────────────────────────┬──────────────────────────────────────┐\n",
      "│ FCN = 18.2                       │              Nfcn = 286              │\n",
      "│ EDM = 4.07e-06 (Goal: 0.0002)    │                                      │\n",
      "├───────────────┬──────────────────┼──────────────────────────────────────┤\n",
      "│ Valid Minimum │ Valid Parameters │        No Parameters at limit        │\n",
      "├───────────────┴──────────────────┼──────────────────────────────────────┤\n",
      "│ Below EDM threshold (goal x 10)  │           Below call limit           │\n",
      "├───────────────┬──────────────────┼───────────┬─────────────┬────────────┤\n",
      "│  Covariance   │     Hesse ok     │ Accurate  │  Pos. def.  │ Not forced │\n",
      "└───────────────┴──────────────────┴───────────┴─────────────┴────────────┘\n",
      "INFO - cabinetry.fit - calculating impact of Luminosity on Signal_norm\n",
      "INFO - cabinetry.fit - MINUIT status:\n",
      "┌──────────────────────────────────┬──────────────────────────────────────┐\n",
      "│ FCN = 18.2                       │              Nfcn = 264              │\n",
      "│ EDM = 2.96e-06 (Goal: 0.0002)    │                                      │\n",
      "├───────────────┬──────────────────┼──────────────────────────────────────┤\n",
      "│ Valid Minimum │ Valid Parameters │        No Parameters at limit        │\n",
      "├───────────────┴──────────────────┼──────────────────────────────────────┤\n",
      "│ Below EDM threshold (goal x 10)  │           Below call limit           │\n",
      "├───────────────┬──────────────────┼───────────┬─────────────┬────────────┤\n",
      "│  Covariance   │     Hesse ok     │ Accurate  │  Pos. def.  │ Not forced │\n",
      "└───────────────┴──────────────────┴───────────┴─────────────┴────────────┘\n",
      "INFO - cabinetry.fit - MINUIT status:\n",
      "┌──────────────────────────────────┬──────────────────────────────────────┐\n",
      "│ FCN = 18.21                      │              Nfcn = 250              │\n",
      "│ EDM = 8.03e-05 (Goal: 0.0002)    │                                      │\n",
      "├───────────────┬──────────────────┼──────────────────────────────────────┤\n",
      "│ Valid Minimum │ Valid Parameters │        No Parameters at limit        │\n",
      "├───────────────┴──────────────────┼──────────────────────────────────────┤\n",
      "│ Below EDM threshold (goal x 10)  │           Below call limit           │\n",
      "├───────────────┬──────────────────┼───────────┬─────────────┬────────────┤\n",
      "│  Covariance   │     Hesse ok     │ Accurate  │  Pos. def.  │ Not forced │\n",
      "└───────────────┴──────────────────┴───────────┴─────────────┴────────────┘\n",
      "INFO - cabinetry.fit - MINUIT status:\n",
      "┌──────────────────────────────────┬──────────────────────────────────────┐\n",
      "│ FCN = 18.18                      │              Nfcn = 264              │\n",
      "│ EDM = 3.02e-06 (Goal: 0.0002)    │                                      │\n",
      "├───────────────┬──────────────────┼──────────────────────────────────────┤\n",
      "│ Valid Minimum │ Valid Parameters │        No Parameters at limit        │\n",
      "├───────────────┴──────────────────┼──────────────────────────────────────┤\n",
      "│ Below EDM threshold (goal x 10)  │           Below call limit           │\n",
      "├───────────────┬──────────────────┼───────────┬─────────────┬────────────┤\n",
      "│  Covariance   │     Hesse ok     │ Accurate  │  Pos. def.  │ Not forced │\n",
      "└───────────────┴──────────────────┴───────────┴─────────────┴────────────┘\n",
      "INFO - cabinetry.fit - MINUIT status:\n",
      "┌──────────────────────────────────┬──────────────────────────────────────┐\n",
      "│ FCN = 18.19                      │              Nfcn = 250              │\n",
      "│ EDM = 8.06e-05 (Goal: 0.0002)    │                                      │\n",
      "├───────────────┬──────────────────┼──────────────────────────────────────┤\n",
      "│ Valid Minimum │ Valid Parameters │        No Parameters at limit        │\n",
      "├───────────────┴──────────────────┼──────────────────────────────────────┤\n",
      "│ Below EDM threshold (goal x 10)  │           Below call limit           │\n",
      "├───────────────┬──────────────────┼───────────┬─────────────┬────────────┤\n",
      "│  Covariance   │     Hesse ok     │ Accurate  │  Pos. def.  │ Not forced │\n",
      "└───────────────┴──────────────────┴───────────┴─────────────┴────────────┘\n"
     ]
    },
    {
     "name": "stderr",
     "output_type": "stream",
     "text": [
      "INFO - cabinetry.fit - calculating impact of Modeling on Signal_norm\n",
      "INFO - cabinetry.fit - MINUIT status:\n",
      "┌──────────────────────────────────┬──────────────────────────────────────┐\n",
      "│ FCN = 35.35                      │              Nfcn = 269              │\n",
      "│ EDM = 2.69e-05 (Goal: 0.0002)    │                                      │\n",
      "├───────────────┬──────────────────┼──────────────────────────────────────┤\n",
      "│ Valid Minimum │ Valid Parameters │       SOME Parameters at limit       │\n",
      "├───────────────┴──────────────────┼──────────────────────────────────────┤\n",
      "│ Below EDM threshold (goal x 10)  │           Below call limit           │\n",
      "├───────────────┬──────────────────┼───────────┬─────────────┬────────────┤\n",
      "│  Covariance   │     Hesse ok     │ Accurate  │  Pos. def.  │ Not forced │\n",
      "└───────────────┴──────────────────┴───────────┴─────────────┴────────────┘\n",
      "INFO - cabinetry.fit - MINUIT status:\n",
      "┌──────────────────────────────────┬──────────────────────────────────────┐\n",
      "│ FCN = 20.47                      │              Nfcn = 264              │\n",
      "│ EDM = 1.43e-06 (Goal: 0.0002)    │                                      │\n",
      "├───────────────┬──────────────────┼──────────────────────────────────────┤\n",
      "│ Valid Minimum │ Valid Parameters │        No Parameters at limit        │\n",
      "├───────────────┴──────────────────┼──────────────────────────────────────┤\n",
      "│ Below EDM threshold (goal x 10)  │           Below call limit           │\n",
      "├───────────────┬──────────────────┼───────────┬─────────────┬────────────┤\n",
      "│  Covariance   │     Hesse ok     │ Accurate  │  Pos. def.  │ Not forced │\n",
      "└───────────────┴──────────────────┴───────────┴─────────────┴────────────┘\n",
      "INFO - cabinetry.fit - MINUIT status:\n",
      "┌──────────────────────────────────┬──────────────────────────────────────┐\n",
      "│ FCN = 19.48                      │              Nfcn = 200              │\n",
      "│ EDM = 3.66e-05 (Goal: 0.0002)    │                                      │\n",
      "├───────────────┬──────────────────┼──────────────────────────────────────┤\n",
      "│ Valid Minimum │ Valid Parameters │        No Parameters at limit        │\n",
      "├───────────────┴──────────────────┼──────────────────────────────────────┤\n",
      "│ Below EDM threshold (goal x 10)  │           Below call limit           │\n",
      "├───────────────┬──────────────────┼───────────┬─────────────┬────────────┤\n",
      "│  Covariance   │     Hesse ok     │ Accurate  │  Pos. def.  │ Not forced │\n",
      "└───────────────┴──────────────────┴───────────┴─────────────┴────────────┘\n",
      "INFO - cabinetry.fit - MINUIT status:\n",
      "┌──────────────────────────────────┬──────────────────────────────────────┐\n",
      "│ FCN = 18.23                      │              Nfcn = 245              │\n",
      "│ EDM = 1.34e-06 (Goal: 0.0002)    │                                      │\n",
      "├───────────────┬──────────────────┼──────────────────────────────────────┤\n",
      "│ Valid Minimum │ Valid Parameters │        No Parameters at limit        │\n",
      "├───────────────┴──────────────────┼──────────────────────────────────────┤\n",
      "│ Below EDM threshold (goal x 10)  │           Below call limit           │\n",
      "├───────────────┬──────────────────┼───────────┬─────────────┬────────────┤\n",
      "│  Covariance   │     Hesse ok     │ Accurate  │  Pos. def.  │ Not forced │\n",
      "└───────────────┴──────────────────┴───────────┴─────────────┴────────────┘\n",
      "INFO - cabinetry.fit - calculating impact of WeightBasedModeling on Signal_norm\n",
      "INFO - cabinetry.fit - MINUIT status:\n",
      "┌──────────────────────────────────┬──────────────────────────────────────┐\n",
      "│ FCN = 20.44                      │              Nfcn = 218              │\n",
      "│ EDM = 0.000148 (Goal: 0.0002)    │                                      │\n",
      "├───────────────┬──────────────────┼──────────────────────────────────────┤\n",
      "│ Valid Minimum │ Valid Parameters │       SOME Parameters at limit       │\n",
      "├───────────────┴──────────────────┼──────────────────────────────────────┤\n",
      "│ Below EDM threshold (goal x 10)  │           Below call limit           │\n",
      "├───────────────┬──────────────────┼───────────┬─────────────┬────────────┤\n",
      "│  Covariance   │     Hesse ok     │ Accurate  │  Pos. def.  │ Not forced │\n",
      "└───────────────┴──────────────────┴───────────┴─────────────┴────────────┘\n",
      "INFO - cabinetry.fit - MINUIT status:\n",
      "┌──────────────────────────────────┬──────────────────────────────────────┐\n",
      "│ FCN = 19.62                      │              Nfcn = 226              │\n",
      "│ EDM = 2.03e-05 (Goal: 0.0002)    │                                      │\n",
      "├───────────────┬──────────────────┼──────────────────────────────────────┤\n",
      "│ Valid Minimum │ Valid Parameters │        No Parameters at limit        │\n",
      "├───────────────┴──────────────────┼──────────────────────────────────────┤\n",
      "│ Below EDM threshold (goal x 10)  │           Below call limit           │\n",
      "├───────────────┬──────────────────┼───────────┬─────────────┬────────────┤\n",
      "│  Covariance   │     Hesse ok     │ Accurate  │  Pos. def.  │ Not forced │\n",
      "└───────────────┴──────────────────┴───────────┴─────────────┴────────────┘\n",
      "INFO - cabinetry.fit - MINUIT status:\n",
      "┌──────────────────────────────────┬──────────────────────────────────────┐\n",
      "│ FCN = 18.27                      │              Nfcn = 200              │\n",
      "│ EDM = 1.3e-05 (Goal: 0.0002)     │                                      │\n",
      "├───────────────┬──────────────────┼──────────────────────────────────────┤\n",
      "│ Valid Minimum │ Valid Parameters │        No Parameters at limit        │\n",
      "├───────────────┴──────────────────┼──────────────────────────────────────┤\n",
      "│ Below EDM threshold (goal x 10)  │           Below call limit           │\n",
      "├───────────────┬──────────────────┼───────────┬─────────────┬────────────┤\n",
      "│  Covariance   │     Hesse ok     │ Accurate  │  Pos. def.  │ Not forced │\n",
      "└───────────────┴──────────────────┴───────────┴─────────────┴────────────┘\n",
      "INFO - cabinetry.fit - MINUIT status:\n",
      "┌──────────────────────────────────┬──────────────────────────────────────┐\n",
      "│ FCN = 18.16                      │              Nfcn = 221              │\n",
      "│ EDM = 1.22e-05 (Goal: 0.0002)    │                                      │\n",
      "├───────────────┬──────────────────┼──────────────────────────────────────┤\n",
      "│ Valid Minimum │ Valid Parameters │        No Parameters at limit        │\n",
      "├───────────────┴──────────────────┼──────────────────────────────────────┤\n",
      "│ Below EDM threshold (goal x 10)  │           Below call limit           │\n",
      "├───────────────┬──────────────────┼───────────┬─────────────┬────────────┤\n",
      "│  Covariance   │     Hesse ok     │ Accurate  │  Pos. def.  │ Not forced │\n",
      "└───────────────┴──────────────────┴───────────┴─────────────┴────────────┘\n"
     ]
    }
   ],
   "source": [
    "ranking_results = cabinetry.fit.ranking(model, data)\n",
    "cabinetry.visualize.ranking(ranking_results)"
   ]
  },
  {
   "cell_type": "markdown",
   "metadata": {},
   "source": [
    "The results have also been visualized:"
   ]
  },
  {
   "cell_type": "code",
   "execution_count": 23,
   "metadata": {},
   "outputs": [
    {
     "data": {
      "image/png": "[encoded data removed]",
      "text/plain": [
       "<wand.image.Image: 9466c94 'PDF' (576x407)>"
      ]
     },
     "execution_count": 23,
     "metadata": {},
     "output_type": "execute_result"
    }
   ],
   "source": [
    "WImage(filename='figures/ranking.pdf')"
   ]
  },
  {
   "cell_type": "markdown",
   "metadata": {},
   "source": [
    "We can also perform likelihood scans for parameters.\n",
    "The example below performs a scan for the `Modeling` nuisance parameter."
   ]
  },
  {
   "cell_type": "code",
   "execution_count": 24,
   "metadata": {},
   "outputs": [
    {
     "name": "stderr",
     "output_type": "stream",
     "text": [
      "INFO - cabinetry.fit - MINUIT status:\n",
      "┌──────────────────────────────────┬──────────────────────────────────────┐\n",
      "│ FCN = 17.19                      │              Nfcn = 327              │\n",
      "│ EDM = 1.12e-06 (Goal: 0.0002)    │                                      │\n",
      "├───────────────┬──────────────────┼──────────────────────────────────────┤\n",
      "│ Valid Minimum │ Valid Parameters │        No Parameters at limit        │\n",
      "├───────────────┴──────────────────┼──────────────────────────────────────┤\n",
      "│ Below EDM threshold (goal x 10)  │           Below call limit           │\n",
      "├───────────────┬──────────────────┼───────────┬─────────────┬────────────┤\n",
      "│  Covariance   │     Hesse ok     │ Accurate  │  Pos. def.  │ Not forced │\n",
      "└───────────────┴──────────────────┴───────────┴─────────────┴────────────┘\n",
      "INFO - cabinetry.fit - performing likelihood scan for WeightBasedModeling in range (-1.840, 0.669) with 11 steps\n",
      "INFO - cabinetry.fit - MINUIT status:\n",
      "┌──────────────────────────────────┬──────────────────────────────────────┐\n",
      "│ FCN = 20.98                      │              Nfcn = 228              │\n",
      "│ EDM = 4.74e-05 (Goal: 0.0002)    │                                      │\n",
      "├───────────────┬──────────────────┼──────────────────────────────────────┤\n",
      "│ Valid Minimum │ Valid Parameters │        No Parameters at limit        │\n",
      "├───────────────┴──────────────────┼──────────────────────────────────────┤\n",
      "│ Below EDM threshold (goal x 10)  │           Below call limit           │\n",
      "├───────────────┬──────────────────┼───────────┬─────────────┬────────────┤\n",
      "│  Covariance   │     Hesse ok     │ Accurate  │  Pos. def.  │ Not forced │\n",
      "└───────────────┴──────────────────┴───────────┴─────────────┴────────────┘\n",
      "INFO - cabinetry.fit - MINUIT status:\n",
      "┌──────────────────────────────────┬──────────────────────────────────────┐\n",
      "│ FCN = 19.63                      │              Nfcn = 226              │\n",
      "│ EDM = 2.04e-05 (Goal: 0.0002)    │                                      │\n",
      "├───────────────┬──────────────────┼──────────────────────────────────────┤\n",
      "│ Valid Minimum │ Valid Parameters │        No Parameters at limit        │\n",
      "├───────────────┴──────────────────┼──────────────────────────────────────┤\n",
      "│ Below EDM threshold (goal x 10)  │           Below call limit           │\n",
      "├───────────────┬──────────────────┼───────────┬─────────────┬────────────┤\n",
      "│  Covariance   │     Hesse ok     │ Accurate  │  Pos. def.  │ Not forced │\n",
      "└───────────────┴──────────────────┴───────────┴─────────────┴────────────┘\n",
      "INFO - cabinetry.fit - MINUIT status:\n",
      "┌──────────────────────────────────┬──────────────────────────────────────┐\n",
      "│ FCN = 18.58                      │              Nfcn = 227              │\n",
      "│ EDM = 1.65e-05 (Goal: 0.0002)    │                                      │\n",
      "├───────────────┬──────────────────┼──────────────────────────────────────┤\n",
      "│ Valid Minimum │ Valid Parameters │        No Parameters at limit        │\n",
      "├───────────────┴──────────────────┼──────────────────────────────────────┤\n",
      "│ Below EDM threshold (goal x 10)  │           Below call limit           │\n",
      "├───────────────┬──────────────────┼───────────┬─────────────┬────────────┤\n",
      "│  Covariance   │     Hesse ok     │ Accurate  │  Pos. def.  │ Not forced │\n",
      "└───────────────┴──────────────────┴───────────┴─────────────┴────────────┘\n",
      "INFO - cabinetry.fit - MINUIT status:\n",
      "┌──────────────────────────────────┬──────────────────────────────────────┐\n",
      "│ FCN = 17.81                      │              Nfcn = 219              │\n",
      "│ EDM = 8.63e-06 (Goal: 0.0002)    │                                      │\n",
      "├───────────────┬──────────────────┼──────────────────────────────────────┤\n",
      "│ Valid Minimum │ Valid Parameters │        No Parameters at limit        │\n",
      "├───────────────┴──────────────────┼──────────────────────────────────────┤\n",
      "│ Below EDM threshold (goal x 10)  │           Below call limit           │\n",
      "├───────────────┬──────────────────┼───────────┬─────────────┬────────────┤\n",
      "│  Covariance   │     Hesse ok     │ Accurate  │  Pos. def.  │ Not forced │\n",
      "└───────────────┴──────────────────┴───────────┴─────────────┴────────────┘\n",
      "INFO - cabinetry.fit - MINUIT status:\n",
      "┌──────────────────────────────────┬──────────────────────────────────────┐\n",
      "│ FCN = 17.35                      │              Nfcn = 217              │\n",
      "│ EDM = 3.05e-06 (Goal: 0.0002)    │                                      │\n",
      "├───────────────┬──────────────────┼──────────────────────────────────────┤\n",
      "│ Valid Minimum │ Valid Parameters │        No Parameters at limit        │\n",
      "├───────────────┴──────────────────┼──────────────────────────────────────┤\n",
      "│ Below EDM threshold (goal x 10)  │           Below call limit           │\n",
      "├───────────────┬──────────────────┼───────────┬─────────────┬────────────┤\n",
      "│  Covariance   │     Hesse ok     │ Accurate  │  Pos. def.  │ Not forced │\n",
      "└───────────────┴──────────────────┴───────────┴─────────────┴────────────┘\n",
      "INFO - cabinetry.fit - MINUIT status:\n",
      "┌──────────────────────────────────┬──────────────────────────────────────┐\n",
      "│ FCN = 17.19                      │              Nfcn = 201              │\n",
      "│ EDM = 7.47e-05 (Goal: 0.0002)    │                                      │\n",
      "├───────────────┬──────────────────┼──────────────────────────────────────┤\n",
      "│ Valid Minimum │ Valid Parameters │        No Parameters at limit        │\n",
      "├───────────────┴──────────────────┼──────────────────────────────────────┤\n",
      "│ Below EDM threshold (goal x 10)  │           Below call limit           │\n",
      "├───────────────┬──────────────────┼───────────┬─────────────┬────────────┤\n",
      "│  Covariance   │     Hesse ok     │ Accurate  │  Pos. def.  │ Not forced │\n",
      "└───────────────┴──────────────────┴───────────┴─────────────┴────────────┘\n",
      "INFO - cabinetry.fit - MINUIT status:\n",
      "┌──────────────────────────────────┬──────────────────────────────────────┐\n",
      "│ FCN = 17.35                      │              Nfcn = 201              │\n",
      "│ EDM = 6.44e-06 (Goal: 0.0002)    │                                      │\n",
      "├───────────────┬──────────────────┼──────────────────────────────────────┤\n",
      "│ Valid Minimum │ Valid Parameters │        No Parameters at limit        │\n",
      "├───────────────┴──────────────────┼──────────────────────────────────────┤\n",
      "│ Below EDM threshold (goal x 10)  │           Below call limit           │\n",
      "├───────────────┬──────────────────┼───────────┬─────────────┬────────────┤\n",
      "│  Covariance   │     Hesse ok     │ Accurate  │  Pos. def.  │ Not forced │\n",
      "└───────────────┴──────────────────┴───────────┴─────────────┴────────────┘\n",
      "INFO - cabinetry.fit - MINUIT status:\n",
      "┌──────────────────────────────────┬──────────────────────────────────────┐\n",
      "│ FCN = 17.86                      │              Nfcn = 170              │\n",
      "│ EDM = 0.000185 (Goal: 0.0002)    │                                      │\n",
      "├───────────────┬──────────────────┼──────────────────────────────────────┤\n",
      "│ Valid Minimum │ Valid Parameters │        No Parameters at limit        │\n",
      "├───────────────┴──────────────────┼──────────────────────────────────────┤\n",
      "│ Below EDM threshold (goal x 10)  │           Below call limit           │\n",
      "├───────────────┬──────────────────┼───────────┬─────────────┬────────────┤\n",
      "│  Covariance   │     Hesse ok     │ Accurate  │  Pos. def.  │ Not forced │\n",
      "└───────────────┴──────────────────┴───────────┴─────────────┴────────────┘\n",
      "INFO - cabinetry.fit - MINUIT status:\n",
      "┌──────────────────────────────────┬──────────────────────────────────────┐\n",
      "│ FCN = 18.82                      │              Nfcn = 200              │\n",
      "│ EDM = 3.96e-05 (Goal: 0.0002)    │                                      │\n",
      "├───────────────┬──────────────────┼──────────────────────────────────────┤\n",
      "│ Valid Minimum │ Valid Parameters │        No Parameters at limit        │\n",
      "├───────────────┴──────────────────┼──────────────────────────────────────┤\n",
      "│ Below EDM threshold (goal x 10)  │           Below call limit           │\n",
      "├───────────────┬──────────────────┼───────────┬─────────────┬────────────┤\n",
      "│  Covariance   │     Hesse ok     │ Accurate  │  Pos. def.  │ Not forced │\n",
      "└───────────────┴──────────────────┴───────────┴─────────────┴────────────┘\n",
      "INFO - cabinetry.fit - MINUIT status:\n",
      "┌──────────────────────────────────┬──────────────────────────────────────┐\n",
      "│ FCN = 20.47                      │              Nfcn = 218              │\n",
      "│ EDM = 0.000173 (Goal: 0.0002)    │                                      │\n",
      "├───────────────┬──────────────────┼──────────────────────────────────────┤\n",
      "│ Valid Minimum │ Valid Parameters │       SOME Parameters at limit       │\n",
      "├───────────────┴──────────────────┼──────────────────────────────────────┤\n",
      "│ Below EDM threshold (goal x 10)  │           Below call limit           │\n",
      "├───────────────┬──────────────────┼───────────┬─────────────┬────────────┤\n",
      "│  Covariance   │     Hesse ok     │ Accurate  │  Pos. def.  │ Not forced │\n",
      "└───────────────┴──────────────────┴───────────┴─────────────┴────────────┘\n"
     ]
    },
    {
     "name": "stderr",
     "output_type": "stream",
     "text": [
      "INFO - cabinetry.fit - MINUIT status:\n",
      "┌──────────────────────────────────┬──────────────────────────────────────┐\n",
      "│ FCN = 23.48                      │              Nfcn = 253              │\n",
      "│ EDM = 4.82e-06 (Goal: 0.0002)    │                                      │\n",
      "├───────────────┬──────────────────┼──────────────────────────────────────┤\n",
      "│ Valid Minimum │ Valid Parameters │       SOME Parameters at limit       │\n",
      "├───────────────┴──────────────────┼──────────────────────────────────────┤\n",
      "│ Below EDM threshold (goal x 10)  │           Below call limit           │\n",
      "├───────────────┬──────────────────┼───────────┬─────────────┬────────────┤\n",
      "│  Covariance   │     Hesse ok     │ Accurate  │  Pos. def.  │ Not forced │\n",
      "└───────────────┴──────────────────┴───────────┴─────────────┴────────────┘\n"
     ]
    }
   ],
   "source": [
    "scan_results = cabinetry.fit.scan(model, data, \"WeightBasedModeling\")\n",
    "cabinetry.visualize.scan(scan_results)"
   ]
  },
  {
   "cell_type": "markdown",
   "metadata": {},
   "source": [
    "The resulting figure looks like this:"
   ]
  },
  {
   "cell_type": "code",
   "execution_count": 25,
   "metadata": {},
   "outputs": [
    {
     "data": {
      "image/png": "[encoded data removed]",
      "text/plain": [
       "<wand.image.Image: 298653d 'PDF' (432x288)>"
      ]
     },
     "execution_count": 25,
     "metadata": {},
     "output_type": "execute_result"
    }
   ],
   "source": [
    "WImage(filename='figures/scan_WeightBasedModeling.pdf')"
   ]
  },
  {
   "cell_type": "markdown",
   "metadata": {},
   "source": [
    "With `cabinetry.fit.limit`, we can evaluate observed and expected 95% confidence level upper parameter limits.\n",
    "The implementation uses Brent bracketing to efficiently find the `CLs=0.05` crossing points."
   ]
  },
  {
   "cell_type": "code",
   "execution_count": 26,
   "metadata": {},
   "outputs": [
    {
     "name": "stderr",
     "output_type": "stream",
     "text": [
      "INFO - cabinetry.fit - calculating upper limit for Signal_norm\n",
      "INFO - cabinetry.fit - determining observed upper limit\n",
      "INFO - cabinetry.fit - successfully converged after 11 steps\n",
      "INFO - cabinetry.fit - observed upper limit: 3.1564\n",
      "INFO - cabinetry.fit - determining expected -2 sigma upper limit\n",
      "INFO - cabinetry.fit - successfully converged after 9 steps\n",
      "INFO - cabinetry.fit - expected -2 sigma upper limit: 1.0107\n",
      "INFO - cabinetry.fit - determining expected -1 sigma upper limit\n",
      "INFO - cabinetry.fit - successfully converged after 6 steps\n",
      "INFO - cabinetry.fit - expected -1 sigma upper limit: 1.4000\n",
      "INFO - cabinetry.fit - determining expected upper limit\n",
      "INFO - cabinetry.fit - successfully converged after 6 steps\n",
      "INFO - cabinetry.fit - expected upper limit: 1.9768\n",
      "INFO - cabinetry.fit - determining expected +1 sigma upper limit\n",
      "INFO - cabinetry.fit - successfully converged after 5 steps\n",
      "INFO - cabinetry.fit - expected +1 sigma upper limit: 2.7101\n",
      "INFO - cabinetry.fit - determining expected +2 sigma upper limit\n",
      "INFO - cabinetry.fit - successfully converged after 6 steps\n",
      "INFO - cabinetry.fit - expected +2 sigma upper limit: 3.5279\n",
      "INFO - cabinetry.fit - total of 43 steps to calculate all limits\n",
      "INFO - cabinetry.fit - summary of upper limits:\n",
      "INFO - cabinetry.fit - observed         : 3.1564\n",
      "INFO - cabinetry.fit - expected -2 sigma: 1.0107\n",
      "INFO - cabinetry.fit - expected -1 sigma: 1.4000\n",
      "INFO - cabinetry.fit - expected         : 1.9768\n",
      "INFO - cabinetry.fit - expected +1 sigma: 2.7101\n",
      "INFO - cabinetry.fit - expected +2 sigma: 3.5279\n"
     ]
    }
   ],
   "source": [
    "limit_results = cabinetry.fit.limit(model, data)\n",
    "cabinetry.visualize.limit(limit_results)"
   ]
  },
  {
   "cell_type": "markdown",
   "metadata": {},
   "source": [
    "Again, the results are visualized:"
   ]
  },
  {
   "cell_type": "code",
   "execution_count": 27,
   "metadata": {},
   "outputs": [
    {
     "data": {
      "image/png": "[encoded data removed]",
      "text/plain": [
       "<wand.image.Image: ae4986c 'PDF' (432x288)>"
      ]
     },
     "execution_count": 27,
     "metadata": {},
     "output_type": "execute_result"
    }
   ],
   "source": [
    "WImage(filename='figures/limit.pdf')"
   ]
  },
  {
   "cell_type": "markdown",
   "metadata": {},
   "source": [
    "The observed limits are above the expected limits.\n",
    "We can calculate the discovery significance with `cabinetry.fit.significance`:"
   ]
  },
  {
   "cell_type": "code",
   "execution_count": 28,
   "metadata": {},
   "outputs": [
    {
     "name": "stderr",
     "output_type": "stream",
     "text": [
      "INFO - cabinetry.fit - calculating discovery significance\n",
      "INFO - cabinetry.fit - observed p-value: 3.58366164%\n",
      "INFO - cabinetry.fit - observed significance: 1.801\n",
      "INFO - cabinetry.fit - expected p-value: 14.77504029%\n",
      "INFO - cabinetry.fit - expected significance: 1.046\n"
     ]
    }
   ],
   "source": [
    "significance_results = cabinetry.fit.significance(model, data)"
   ]
  },
  {
   "cell_type": "markdown",
   "metadata": {},
   "source": [
    "In this case, we observe a 1.8 sigma excess (and expected 1.0 sigma)"
   ]
  }
 ],
 "metadata": {
  "kernelspec": {
   "display_name": "Python (pyhf)",
   "language": "python",
   "name": "pyhf"
  },
  "language_info": {
   "codemirror_mode": {
    "name": "ipython",
    "version": 3
   },
   "file_extension": ".py",
   "mimetype": "text/x-python",
   "name": "python",
   "nbconvert_exporter": "python",
   "pygments_lexer": "ipython3",
   "version": "3.8.3"
  }
 },
 "nbformat": 4,
 "nbformat_minor": 2
}
